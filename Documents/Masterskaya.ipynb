{
 "cells": [
  {
   "cell_type": "markdown",
   "id": "eb75c2c7-7297-4209-a80f-f90e3611cc91",
   "metadata": {},
   "source": [
    "# Предсказание успешности стартапов \n",
    "\n",
    "Поставлена задача построить модель машинного обучения для бинарной классификации, которая сможет предсказать успешность стартапов. Представлены данные в датасетах за 1977 по 2015 годы.\n",
    "\n",
    "___\n",
    "\n",
    "В датасетах представлены колонки:\n",
    "- name: Название компании.\n",
    "- category_list: Категории, к которым относится компания.\n",
    "- funding_total_usd: Общая сумма привлеченных инвестиций в долларах США.\n",
    "- status: Текущий статус компании.\n",
    "- country_code: Код страны регистрации компании.\n",
    "- state_code: Код штата или региона.\n",
    "- region: Регион регистрации компании.\n",
    "- city: Город регистрации компании.\n",
    "- funding_rounds: Общее количество раундов финансирования.\n",
    "- founded_at: Дата основания компании.\n",
    "- first_funding_at: Дата первого раунда финансирования.\n",
    "- last_funding_at: Дата последнего раунда финансирования.\n",
    "- closed_at: Дата закрытия компании.\n",
    "- lifetime: Длительность работы компании в днях.\n",
    "\n",
    "___\n",
    "\n",
    "Задачи и цели:\n",
    " - Загрузить библиотеки и данные\n",
    " - Провести предобработку\n",
    " - Проанализировать целевой признак и числовые данные на аномалии, выбрать оптимальную метрику\n",
    " - Построить матрицу корреляции и проверить признаки на мультиколлинеарность\n",
    " - Построить модель без и с синтетическими признаками\n",
    " - Сделать выводы"
   ]
  },
  {
   "cell_type": "markdown",
   "id": "5968164a-ad75-44c7-a1ae-fdc5ebd61fd2",
   "metadata": {},
   "source": [
    "## Разведовательный анализ и загрузка библиотек"
   ]
  },
  {
   "cell_type": "code",
   "execution_count": 1,
   "id": "b9f7cdfc-52f4-4bc8-af93-36128c84a6cf",
   "metadata": {},
   "outputs": [
    {
     "name": "stdout",
     "output_type": "stream",
     "text": [
      "Requirement already satisfied: phik in c:\\users\\user\\anaconda3\\lib\\site-packages (0.12.4)\n",
      "Requirement already satisfied: numpy>=1.18.0 in c:\\users\\user\\anaconda3\\lib\\site-packages (from phik) (1.26.4)\n",
      "Requirement already satisfied: scipy>=1.5.2 in c:\\users\\user\\anaconda3\\lib\\site-packages (from phik) (1.11.4)\n",
      "Requirement already satisfied: pandas>=0.25.1 in c:\\users\\user\\anaconda3\\lib\\site-packages (from phik) (2.1.4)\n",
      "Requirement already satisfied: matplotlib>=2.2.3 in c:\\users\\user\\anaconda3\\lib\\site-packages (from phik) (3.8.0)\n",
      "Requirement already satisfied: joblib>=0.14.1 in c:\\users\\user\\anaconda3\\lib\\site-packages (from phik) (1.2.0)\n",
      "Requirement already satisfied: contourpy>=1.0.1 in c:\\users\\user\\anaconda3\\lib\\site-packages (from matplotlib>=2.2.3->phik) (1.2.0)\n",
      "Requirement already satisfied: cycler>=0.10 in c:\\users\\user\\anaconda3\\lib\\site-packages (from matplotlib>=2.2.3->phik) (0.11.0)\n",
      "Requirement already satisfied: fonttools>=4.22.0 in c:\\users\\user\\anaconda3\\lib\\site-packages (from matplotlib>=2.2.3->phik) (4.25.0)\n",
      "Requirement already satisfied: kiwisolver>=1.0.1 in c:\\users\\user\\anaconda3\\lib\\site-packages (from matplotlib>=2.2.3->phik) (1.4.4)\n",
      "Requirement already satisfied: packaging>=20.0 in c:\\users\\user\\anaconda3\\lib\\site-packages (from matplotlib>=2.2.3->phik) (23.1)\n",
      "Requirement already satisfied: pillow>=6.2.0 in c:\\users\\user\\anaconda3\\lib\\site-packages (from matplotlib>=2.2.3->phik) (10.2.0)\n",
      "Requirement already satisfied: pyparsing>=2.3.1 in c:\\users\\user\\anaconda3\\lib\\site-packages (from matplotlib>=2.2.3->phik) (3.0.9)\n",
      "Requirement already satisfied: python-dateutil>=2.7 in c:\\users\\user\\anaconda3\\lib\\site-packages (from matplotlib>=2.2.3->phik) (2.8.2)\n",
      "Requirement already satisfied: pytz>=2020.1 in c:\\users\\user\\anaconda3\\lib\\site-packages (from pandas>=0.25.1->phik) (2023.3.post1)\n",
      "Requirement already satisfied: tzdata>=2022.1 in c:\\users\\user\\anaconda3\\lib\\site-packages (from pandas>=0.25.1->phik) (2023.3)\n",
      "Requirement already satisfied: six>=1.5 in c:\\users\\user\\anaconda3\\lib\\site-packages (from python-dateutil>=2.7->matplotlib>=2.2.3->phik) (1.16.0)\n",
      "Requirement already satisfied: xgboost in c:\\users\\user\\anaconda3\\lib\\site-packages (2.1.2)\n",
      "Requirement already satisfied: numpy in c:\\users\\user\\anaconda3\\lib\\site-packages (from xgboost) (1.26.4)\n",
      "Requirement already satisfied: scipy in c:\\users\\user\\anaconda3\\lib\\site-packages (from xgboost) (1.11.4)\n",
      "Requirement already satisfied: catboost in c:\\users\\user\\anaconda3\\lib\\site-packages (1.2.7)\n",
      "Requirement already satisfied: graphviz in c:\\users\\user\\anaconda3\\lib\\site-packages (from catboost) (0.20.3)\n",
      "Requirement already satisfied: matplotlib in c:\\users\\user\\anaconda3\\lib\\site-packages (from catboost) (3.8.0)\n",
      "Requirement already satisfied: numpy<2.0,>=1.16.0 in c:\\users\\user\\anaconda3\\lib\\site-packages (from catboost) (1.26.4)\n",
      "Requirement already satisfied: pandas>=0.24 in c:\\users\\user\\anaconda3\\lib\\site-packages (from catboost) (2.1.4)\n",
      "Requirement already satisfied: scipy in c:\\users\\user\\anaconda3\\lib\\site-packages (from catboost) (1.11.4)\n",
      "Requirement already satisfied: plotly in c:\\users\\user\\anaconda3\\lib\\site-packages (from catboost) (5.9.0)\n",
      "Requirement already satisfied: six in c:\\users\\user\\anaconda3\\lib\\site-packages (from catboost) (1.16.0)\n",
      "Requirement already satisfied: python-dateutil>=2.8.2 in c:\\users\\user\\anaconda3\\lib\\site-packages (from pandas>=0.24->catboost) (2.8.2)\n",
      "Requirement already satisfied: pytz>=2020.1 in c:\\users\\user\\anaconda3\\lib\\site-packages (from pandas>=0.24->catboost) (2023.3.post1)\n",
      "Requirement already satisfied: tzdata>=2022.1 in c:\\users\\user\\anaconda3\\lib\\site-packages (from pandas>=0.24->catboost) (2023.3)\n",
      "Requirement already satisfied: contourpy>=1.0.1 in c:\\users\\user\\anaconda3\\lib\\site-packages (from matplotlib->catboost) (1.2.0)\n",
      "Requirement already satisfied: cycler>=0.10 in c:\\users\\user\\anaconda3\\lib\\site-packages (from matplotlib->catboost) (0.11.0)\n",
      "Requirement already satisfied: fonttools>=4.22.0 in c:\\users\\user\\anaconda3\\lib\\site-packages (from matplotlib->catboost) (4.25.0)\n",
      "Requirement already satisfied: kiwisolver>=1.0.1 in c:\\users\\user\\anaconda3\\lib\\site-packages (from matplotlib->catboost) (1.4.4)\n",
      "Requirement already satisfied: packaging>=20.0 in c:\\users\\user\\anaconda3\\lib\\site-packages (from matplotlib->catboost) (23.1)\n",
      "Requirement already satisfied: pillow>=6.2.0 in c:\\users\\user\\anaconda3\\lib\\site-packages (from matplotlib->catboost) (10.2.0)\n",
      "Requirement already satisfied: pyparsing>=2.3.1 in c:\\users\\user\\anaconda3\\lib\\site-packages (from matplotlib->catboost) (3.0.9)\n",
      "Requirement already satisfied: tenacity>=6.2.0 in c:\\users\\user\\anaconda3\\lib\\site-packages (from plotly->catboost) (8.2.2)\n"
     ]
    }
   ],
   "source": [
    "!pip install phik\n",
    "!pip install xgboost\n",
    "!pip install catboost\n",
    "\n",
    "import pandas as pd\n",
    "import numpy as np\n",
    "from phik.report import plot_correlation_matrix\n",
    "import matplotlib.pyplot as plt\n",
    "import seaborn as sns\n",
    "from datetime import datetime\n",
    "\n",
    "from sklearn.compose import ColumnTransformer\n",
    "from sklearn.pipeline import Pipeline\n",
    "from sklearn.preprocessing import OneHotEncoder, StandardScaler, LabelEncoder, MinMaxScaler\n",
    "from sklearn.impute import SimpleImputer\n",
    "from sklearn.model_selection import GridSearchCV\n",
    "from sklearn.linear_model import LogisticRegression\n",
    "from sklearn.ensemble import RandomForestClassifier\n",
    "from xgboost import XGBClassifier\n",
    "from catboost import CatBoostClassifier\n",
    "from sklearn.neighbors import KNeighborsClassifier\n",
    "from sklearn.svm import SVC\n",
    "from sklearn.metrics import roc_auc_score, accuracy_score, precision_score, recall_score, f1_score\n",
    "\n",
    "pd.set_option('display.float_format', '{:.2f}'.format)"
   ]
  },
  {
   "cell_type": "code",
   "execution_count": 2,
   "id": "47d65b55-c8d7-4874-9067-c108209b6de8",
   "metadata": {},
   "outputs": [],
   "source": [
    "#Загрузим данные\n",
    "train_df = pd.read_csv('kaggle_startups_train_28062024.csv')\n",
    "test_df = pd.read_csv('kaggle_startups_test_28062024.csv')\n",
    "names_df = pd.read_csv('kaggle_startups_sample_submit_28062024.csv')"
   ]
  },
  {
   "cell_type": "code",
   "execution_count": 3,
   "id": "1aeb079a-aadc-49de-a885-43c98711a533",
   "metadata": {},
   "outputs": [
    {
     "data": {
      "text/html": [
       "<div>\n",
       "<style scoped>\n",
       "    .dataframe tbody tr th:only-of-type {\n",
       "        vertical-align: middle;\n",
       "    }\n",
       "\n",
       "    .dataframe tbody tr th {\n",
       "        vertical-align: top;\n",
       "    }\n",
       "\n",
       "    .dataframe thead th {\n",
       "        text-align: right;\n",
       "    }\n",
       "</style>\n",
       "<table border=\"1\" class=\"dataframe\">\n",
       "  <thead>\n",
       "    <tr style=\"text-align: right;\">\n",
       "      <th></th>\n",
       "      <th>name</th>\n",
       "      <th>category_list</th>\n",
       "      <th>funding_total_usd</th>\n",
       "      <th>status</th>\n",
       "      <th>country_code</th>\n",
       "      <th>state_code</th>\n",
       "      <th>region</th>\n",
       "      <th>city</th>\n",
       "      <th>funding_rounds</th>\n",
       "      <th>founded_at</th>\n",
       "      <th>first_funding_at</th>\n",
       "      <th>last_funding_at</th>\n",
       "      <th>closed_at</th>\n",
       "    </tr>\n",
       "  </thead>\n",
       "  <tbody>\n",
       "    <tr>\n",
       "      <th>0</th>\n",
       "      <td>Lunchgate</td>\n",
       "      <td>Online Reservations|Restaurants</td>\n",
       "      <td>828626.00</td>\n",
       "      <td>operating</td>\n",
       "      <td>CHE</td>\n",
       "      <td>25</td>\n",
       "      <td>Zurich</td>\n",
       "      <td>Zürich</td>\n",
       "      <td>2</td>\n",
       "      <td>2009-10-17</td>\n",
       "      <td>2011-05-01</td>\n",
       "      <td>2014-12-01</td>\n",
       "      <td>NaN</td>\n",
       "    </tr>\n",
       "    <tr>\n",
       "      <th>1</th>\n",
       "      <td>EarLens</td>\n",
       "      <td>Manufacturing|Medical|Medical Devices</td>\n",
       "      <td>42935019.00</td>\n",
       "      <td>operating</td>\n",
       "      <td>USA</td>\n",
       "      <td>CA</td>\n",
       "      <td>SF Bay Area</td>\n",
       "      <td>Redwood City</td>\n",
       "      <td>4</td>\n",
       "      <td>2005-01-01</td>\n",
       "      <td>2010-05-04</td>\n",
       "      <td>2014-02-25</td>\n",
       "      <td>NaN</td>\n",
       "    </tr>\n",
       "    <tr>\n",
       "      <th>2</th>\n",
       "      <td>Reviva Pharmaceuticals</td>\n",
       "      <td>Biotechnology</td>\n",
       "      <td>35456381.00</td>\n",
       "      <td>operating</td>\n",
       "      <td>USA</td>\n",
       "      <td>CA</td>\n",
       "      <td>SF Bay Area</td>\n",
       "      <td>San Jose</td>\n",
       "      <td>3</td>\n",
       "      <td>2006-01-01</td>\n",
       "      <td>2012-08-20</td>\n",
       "      <td>2014-07-02</td>\n",
       "      <td>NaN</td>\n",
       "    </tr>\n",
       "    <tr>\n",
       "      <th>3</th>\n",
       "      <td>Sancilio and Company</td>\n",
       "      <td>Health Care</td>\n",
       "      <td>22250000.00</td>\n",
       "      <td>operating</td>\n",
       "      <td>NaN</td>\n",
       "      <td>NaN</td>\n",
       "      <td>NaN</td>\n",
       "      <td>NaN</td>\n",
       "      <td>3</td>\n",
       "      <td>2004-01-01</td>\n",
       "      <td>2011-09-01</td>\n",
       "      <td>2014-07-18</td>\n",
       "      <td>NaN</td>\n",
       "    </tr>\n",
       "    <tr>\n",
       "      <th>4</th>\n",
       "      <td>WireTough Cylinders</td>\n",
       "      <td>Manufacturing</td>\n",
       "      <td>NaN</td>\n",
       "      <td>operating</td>\n",
       "      <td>USA</td>\n",
       "      <td>VA</td>\n",
       "      <td>VA - Other</td>\n",
       "      <td>Bristol</td>\n",
       "      <td>1</td>\n",
       "      <td>2010-05-12</td>\n",
       "      <td>2012-02-01</td>\n",
       "      <td>2012-02-01</td>\n",
       "      <td>NaN</td>\n",
       "    </tr>\n",
       "  </tbody>\n",
       "</table>\n",
       "</div>"
      ],
      "text/plain": [
       "                     name                          category_list  \\\n",
       "0               Lunchgate        Online Reservations|Restaurants   \n",
       "1                 EarLens  Manufacturing|Medical|Medical Devices   \n",
       "2  Reviva Pharmaceuticals                          Biotechnology   \n",
       "3    Sancilio and Company                            Health Care   \n",
       "4     WireTough Cylinders                          Manufacturing   \n",
       "\n",
       "   funding_total_usd     status country_code state_code       region  \\\n",
       "0          828626.00  operating          CHE         25       Zurich   \n",
       "1        42935019.00  operating          USA         CA  SF Bay Area   \n",
       "2        35456381.00  operating          USA         CA  SF Bay Area   \n",
       "3        22250000.00  operating          NaN        NaN          NaN   \n",
       "4                NaN  operating          USA         VA   VA - Other   \n",
       "\n",
       "           city  funding_rounds  founded_at first_funding_at last_funding_at  \\\n",
       "0        Zürich               2  2009-10-17       2011-05-01      2014-12-01   \n",
       "1  Redwood City               4  2005-01-01       2010-05-04      2014-02-25   \n",
       "2      San Jose               3  2006-01-01       2012-08-20      2014-07-02   \n",
       "3           NaN               3  2004-01-01       2011-09-01      2014-07-18   \n",
       "4       Bristol               1  2010-05-12       2012-02-01      2012-02-01   \n",
       "\n",
       "  closed_at  \n",
       "0       NaN  \n",
       "1       NaN  \n",
       "2       NaN  \n",
       "3       NaN  \n",
       "4       NaN  "
      ]
     },
     "metadata": {},
     "output_type": "display_data"
    },
    {
     "name": "stdout",
     "output_type": "stream",
     "text": [
      "\n",
      "<class 'pandas.core.frame.DataFrame'>\n",
      "RangeIndex: 52516 entries, 0 to 52515\n",
      "Data columns (total 13 columns):\n",
      " #   Column             Non-Null Count  Dtype  \n",
      "---  ------             --------------  -----  \n",
      " 0   name               52515 non-null  object \n",
      " 1   category_list      50051 non-null  object \n",
      " 2   funding_total_usd  42447 non-null  float64\n",
      " 3   status             52516 non-null  object \n",
      " 4   country_code       47014 non-null  object \n",
      " 5   state_code         45753 non-null  object \n",
      " 6   region             46157 non-null  object \n",
      " 7   city               46157 non-null  object \n",
      " 8   funding_rounds     52516 non-null  int64  \n",
      " 9   founded_at         52516 non-null  object \n",
      " 10  first_funding_at   52516 non-null  object \n",
      " 11  last_funding_at    52516 non-null  object \n",
      " 12  closed_at          4917 non-null   object \n",
      "dtypes: float64(1), int64(1), object(11)\n",
      "memory usage: 5.2+ MB\n",
      "\n",
      "name                  object\n",
      "category_list         object\n",
      "funding_total_usd    float64\n",
      "status                object\n",
      "country_code          object\n",
      "state_code            object\n",
      "region                object\n",
      "city                  object\n",
      "funding_rounds         int64\n",
      "founded_at            object\n",
      "first_funding_at      object\n",
      "last_funding_at       object\n",
      "closed_at             object\n",
      "dtype: object\n"
     ]
    }
   ],
   "source": [
    "#функция для разведки\n",
    "def analyze_dataframe(df, name):\n",
    "    display(df.head())\n",
    "    print()\n",
    "    df.info()\n",
    "    print()\n",
    "    print(df.dtypes)\n",
    "\n",
    "analyze_dataframe(train_df, \"train_df\")"
   ]
  },
  {
   "cell_type": "code",
   "execution_count": 4,
   "id": "638078a4-8e93-4eca-a51e-ca9bbc8fdd00",
   "metadata": {},
   "outputs": [
    {
     "data": {
      "text/html": [
       "<div>\n",
       "<style scoped>\n",
       "    .dataframe tbody tr th:only-of-type {\n",
       "        vertical-align: middle;\n",
       "    }\n",
       "\n",
       "    .dataframe tbody tr th {\n",
       "        vertical-align: top;\n",
       "    }\n",
       "\n",
       "    .dataframe thead th {\n",
       "        text-align: right;\n",
       "    }\n",
       "</style>\n",
       "<table border=\"1\" class=\"dataframe\">\n",
       "  <thead>\n",
       "    <tr style=\"text-align: right;\">\n",
       "      <th></th>\n",
       "      <th>name</th>\n",
       "      <th>category_list</th>\n",
       "      <th>funding_total_usd</th>\n",
       "      <th>country_code</th>\n",
       "      <th>state_code</th>\n",
       "      <th>region</th>\n",
       "      <th>city</th>\n",
       "      <th>funding_rounds</th>\n",
       "      <th>first_funding_at</th>\n",
       "      <th>last_funding_at</th>\n",
       "      <th>lifetime</th>\n",
       "    </tr>\n",
       "  </thead>\n",
       "  <tbody>\n",
       "    <tr>\n",
       "      <th>0</th>\n",
       "      <td>Crystalsol</td>\n",
       "      <td>Clean Technology</td>\n",
       "      <td>2819200.00</td>\n",
       "      <td>NIC</td>\n",
       "      <td>17</td>\n",
       "      <td>NaN</td>\n",
       "      <td>NaN</td>\n",
       "      <td>1</td>\n",
       "      <td>2009-07-01</td>\n",
       "      <td>2009-07-01</td>\n",
       "      <td>3501</td>\n",
       "    </tr>\n",
       "    <tr>\n",
       "      <th>1</th>\n",
       "      <td>JBI Fish &amp; Wings</td>\n",
       "      <td>Hospitality</td>\n",
       "      <td>NaN</td>\n",
       "      <td>USA</td>\n",
       "      <td>TN</td>\n",
       "      <td>TN - Other</td>\n",
       "      <td>Humboldt</td>\n",
       "      <td>1</td>\n",
       "      <td>2010-07-28</td>\n",
       "      <td>2010-07-28</td>\n",
       "      <td>2717</td>\n",
       "    </tr>\n",
       "    <tr>\n",
       "      <th>2</th>\n",
       "      <td>COINPLUS</td>\n",
       "      <td>Finance</td>\n",
       "      <td>428257.00</td>\n",
       "      <td>LUX</td>\n",
       "      <td>3</td>\n",
       "      <td>Esch-sur-alzette</td>\n",
       "      <td>Esch-sur-alzette</td>\n",
       "      <td>2</td>\n",
       "      <td>2014-05-15</td>\n",
       "      <td>2014-09-18</td>\n",
       "      <td>1295</td>\n",
       "    </tr>\n",
       "    <tr>\n",
       "      <th>3</th>\n",
       "      <td>Imagine Communications</td>\n",
       "      <td>Software|Video|Video Streaming</td>\n",
       "      <td>34700000.00</td>\n",
       "      <td>USA</td>\n",
       "      <td>CA</td>\n",
       "      <td>San Diego</td>\n",
       "      <td>San Diego</td>\n",
       "      <td>4</td>\n",
       "      <td>2005-01-01</td>\n",
       "      <td>2010-04-20</td>\n",
       "      <td>4748</td>\n",
       "    </tr>\n",
       "    <tr>\n",
       "      <th>4</th>\n",
       "      <td>DNA13</td>\n",
       "      <td>Software</td>\n",
       "      <td>4530000.00</td>\n",
       "      <td>CAN</td>\n",
       "      <td>ON</td>\n",
       "      <td>Ottawa</td>\n",
       "      <td>Ottawa</td>\n",
       "      <td>1</td>\n",
       "      <td>2007-05-08</td>\n",
       "      <td>2007-05-08</td>\n",
       "      <td>6209</td>\n",
       "    </tr>\n",
       "  </tbody>\n",
       "</table>\n",
       "</div>"
      ],
      "text/plain": [
       "                     name                   category_list  funding_total_usd  \\\n",
       "0              Crystalsol                Clean Technology         2819200.00   \n",
       "1        JBI Fish & Wings                     Hospitality                NaN   \n",
       "2                COINPLUS                         Finance          428257.00   \n",
       "3  Imagine Communications  Software|Video|Video Streaming        34700000.00   \n",
       "4                   DNA13                        Software         4530000.00   \n",
       "\n",
       "  country_code state_code            region              city  funding_rounds  \\\n",
       "0          NIC         17               NaN               NaN               1   \n",
       "1          USA         TN        TN - Other          Humboldt               1   \n",
       "2          LUX          3  Esch-sur-alzette  Esch-sur-alzette               2   \n",
       "3          USA         CA         San Diego         San Diego               4   \n",
       "4          CAN         ON            Ottawa            Ottawa               1   \n",
       "\n",
       "  first_funding_at last_funding_at  lifetime  \n",
       "0       2009-07-01      2009-07-01      3501  \n",
       "1       2010-07-28      2010-07-28      2717  \n",
       "2       2014-05-15      2014-09-18      1295  \n",
       "3       2005-01-01      2010-04-20      4748  \n",
       "4       2007-05-08      2007-05-08      6209  "
      ]
     },
     "metadata": {},
     "output_type": "display_data"
    },
    {
     "name": "stdout",
     "output_type": "stream",
     "text": [
      "\n",
      "<class 'pandas.core.frame.DataFrame'>\n",
      "RangeIndex: 13125 entries, 0 to 13124\n",
      "Data columns (total 11 columns):\n",
      " #   Column             Non-Null Count  Dtype  \n",
      "---  ------             --------------  -----  \n",
      " 0   name               13125 non-null  object \n",
      " 1   category_list      12534 non-null  object \n",
      " 2   funding_total_usd  10547 non-null  float64\n",
      " 3   country_code       11743 non-null  object \n",
      " 4   state_code         11430 non-null  object \n",
      " 5   region             11536 non-null  object \n",
      " 6   city               11538 non-null  object \n",
      " 7   funding_rounds     13125 non-null  int64  \n",
      " 8   first_funding_at   13125 non-null  object \n",
      " 9   last_funding_at    13125 non-null  object \n",
      " 10  lifetime           13125 non-null  int64  \n",
      "dtypes: float64(1), int64(2), object(8)\n",
      "memory usage: 1.1+ MB\n",
      "\n",
      "name                  object\n",
      "category_list         object\n",
      "funding_total_usd    float64\n",
      "country_code          object\n",
      "state_code            object\n",
      "region                object\n",
      "city                  object\n",
      "funding_rounds         int64\n",
      "first_funding_at      object\n",
      "last_funding_at       object\n",
      "lifetime               int64\n",
      "dtype: object\n"
     ]
    }
   ],
   "source": [
    "analyze_dataframe(test_df, \"test_df\")"
   ]
  },
  {
   "cell_type": "code",
   "execution_count": 5,
   "id": "3d3cd8a8-61fa-4b9b-880e-7c4be7171aac",
   "metadata": {},
   "outputs": [
    {
     "data": {
      "text/html": [
       "<div>\n",
       "<style scoped>\n",
       "    .dataframe tbody tr th:only-of-type {\n",
       "        vertical-align: middle;\n",
       "    }\n",
       "\n",
       "    .dataframe tbody tr th {\n",
       "        vertical-align: top;\n",
       "    }\n",
       "\n",
       "    .dataframe thead th {\n",
       "        text-align: right;\n",
       "    }\n",
       "</style>\n",
       "<table border=\"1\" class=\"dataframe\">\n",
       "  <thead>\n",
       "    <tr style=\"text-align: right;\">\n",
       "      <th></th>\n",
       "      <th>name</th>\n",
       "      <th>status</th>\n",
       "    </tr>\n",
       "  </thead>\n",
       "  <tbody>\n",
       "    <tr>\n",
       "      <th>0</th>\n",
       "      <td>Crystalsol</td>\n",
       "      <td>closed</td>\n",
       "    </tr>\n",
       "    <tr>\n",
       "      <th>1</th>\n",
       "      <td>JBI Fish &amp; Wings</td>\n",
       "      <td>operating</td>\n",
       "    </tr>\n",
       "    <tr>\n",
       "      <th>2</th>\n",
       "      <td>COINPLUS</td>\n",
       "      <td>closed</td>\n",
       "    </tr>\n",
       "    <tr>\n",
       "      <th>3</th>\n",
       "      <td>Imagine Communications</td>\n",
       "      <td>closed</td>\n",
       "    </tr>\n",
       "    <tr>\n",
       "      <th>4</th>\n",
       "      <td>DNA13</td>\n",
       "      <td>operating</td>\n",
       "    </tr>\n",
       "  </tbody>\n",
       "</table>\n",
       "</div>"
      ],
      "text/plain": [
       "                     name     status\n",
       "0              Crystalsol     closed\n",
       "1        JBI Fish & Wings  operating\n",
       "2                COINPLUS     closed\n",
       "3  Imagine Communications     closed\n",
       "4                   DNA13  operating"
      ]
     },
     "metadata": {},
     "output_type": "display_data"
    },
    {
     "name": "stdout",
     "output_type": "stream",
     "text": [
      "\n",
      "<class 'pandas.core.frame.DataFrame'>\n",
      "RangeIndex: 13125 entries, 0 to 13124\n",
      "Data columns (total 2 columns):\n",
      " #   Column  Non-Null Count  Dtype \n",
      "---  ------  --------------  ----- \n",
      " 0   name    13125 non-null  object\n",
      " 1   status  13125 non-null  object\n",
      "dtypes: object(2)\n",
      "memory usage: 205.2+ KB\n",
      "\n",
      "name      object\n",
      "status    object\n",
      "dtype: object\n"
     ]
    }
   ],
   "source": [
    "analyze_dataframe(names_df, \"names_df\")"
   ]
  },
  {
   "cell_type": "code",
   "execution_count": 6,
   "id": "c2640f26-1b71-4fe3-b1d1-d8c4fb35e07a",
   "metadata": {},
   "outputs": [
    {
     "name": "stdout",
     "output_type": "stream",
     "text": [
      "                     name                   category_list  funding_total_usd  \\\n",
      "0              Crystalsol                Clean Technology         2819200.00   \n",
      "1        JBI Fish & Wings                     Hospitality                NaN   \n",
      "2                COINPLUS                         Finance          428257.00   \n",
      "3  Imagine Communications  Software|Video|Video Streaming        34700000.00   \n",
      "4                   DNA13                        Software         4530000.00   \n",
      "\n",
      "  country_code state_code            region              city  funding_rounds  \\\n",
      "0          NIC         17               NaN               NaN               1   \n",
      "1          USA         TN        TN - Other          Humboldt               1   \n",
      "2          LUX          3  Esch-sur-alzette  Esch-sur-alzette               2   \n",
      "3          USA         CA         San Diego         San Diego               4   \n",
      "4          CAN         ON            Ottawa            Ottawa               1   \n",
      "\n",
      "  first_funding_at last_funding_at  lifetime     status  \n",
      "0       2009-07-01      2009-07-01      3501     closed  \n",
      "1       2010-07-28      2010-07-28      2717  operating  \n",
      "2       2014-05-15      2014-09-18      1295     closed  \n",
      "3       2005-01-01      2010-04-20      4748     closed  \n",
      "4       2007-05-08      2007-05-08      6209  operating  \n",
      "0  строк с пустыми значениями в 'status'\n"
     ]
    }
   ],
   "source": [
    "test_df = test_df.merge(names_df[['name', 'status']], on='name', how='left')\n",
    "\n",
    "# Проверим, успешно ли добавился статус\n",
    "print(test_df.head())\n",
    "print(test_df['status'].isnull().sum(), \" строк с пустыми значениями в 'status'\")"
   ]
  },
  {
   "cell_type": "markdown",
   "id": "d7c8cd8e-3f6e-43a0-a64e-22f45ed04a41",
   "metadata": {},
   "source": [
    "Выводы:\n",
    "\n",
    "- Загружены три набора данных: тренировочная выборка, тестовая выборка и дополнительный датасет для анализа\n",
    "Различия в категориях и столбцах:\n",
    "\n",
    "- Есть несоответствия в составах столбцов и категориях между тренировочной и тестовой выборками\n",
    "\n",
    "- В данных есть пропущенные значения, которые необходимо обработать\n",
    "\n",
    "- Типы данных в большинстве столбцов соответствуют ожидаемым, кроме столбцов с датами\n",
    "\n",
    "- Объединили тестовую выборки и датафрем с статусами стартапов"
   ]
  },
  {
   "cell_type": "markdown",
   "id": "5a274b43-becf-4359-b8cc-617efbbe36e5",
   "metadata": {},
   "source": [
    "## Предобработка"
   ]
  },
  {
   "cell_type": "code",
   "execution_count": 7,
   "id": "0e6bc39d-530b-4210-9642-62be37944f2d",
   "metadata": {},
   "outputs": [],
   "source": [
    "#Меняем типы у дат\n",
    "train_df['founded_at'] = pd.to_datetime(train_df['founded_at'], errors='coerce')\n",
    "train_df['first_funding_at'] = pd.to_datetime(train_df['first_funding_at'], errors='coerce')\n",
    "train_df['last_funding_at'] = pd.to_datetime(train_df['last_funding_at'], errors='coerce')\n",
    "train_df['closed_at'] = pd.to_datetime(train_df['closed_at'], errors='coerce')\n",
    "\n",
    "test_df['first_funding_at'] = pd.to_datetime(test_df['first_funding_at'], errors='coerce')\n",
    "test_df['last_funding_at'] = pd.to_datetime(test_df['last_funding_at'], errors='coerce')"
   ]
  },
  {
   "cell_type": "code",
   "execution_count": 8,
   "id": "45773f52-572e-45a2-b786-c33d3eaf7eac",
   "metadata": {},
   "outputs": [
    {
     "name": "stdout",
     "output_type": "stream",
     "text": [
      "Пропуски в train_df:\n",
      "name                     1\n",
      "category_list         2465\n",
      "funding_total_usd    10069\n",
      "status                   0\n",
      "country_code          5502\n",
      "state_code            6763\n",
      "region                6359\n",
      "city                  6359\n",
      "funding_rounds           0\n",
      "founded_at               0\n",
      "first_funding_at         0\n",
      "last_funding_at          0\n",
      "closed_at            47599\n",
      "dtype: int64\n",
      "\n",
      "Пропуски в test_df:\n",
      "name                    0\n",
      "category_list         591\n",
      "funding_total_usd    2578\n",
      "country_code         1382\n",
      "state_code           1695\n",
      "region               1589\n",
      "city                 1587\n",
      "funding_rounds          0\n",
      "first_funding_at        0\n",
      "last_funding_at         0\n",
      "lifetime                0\n",
      "status                  0\n",
      "dtype: int64\n",
      "\n"
     ]
    }
   ],
   "source": [
    "#Создадим список с датафремами, чтобы было проще\n",
    "dataframes = {\n",
    "    \"train_df\": train_df,\n",
    "    \"test_df\": test_df}\n",
    "\n",
    "#Смотрим пропуски \n",
    "missing_counts = {name: df.isnull().sum() for name, df in dataframes.items()}\n",
    "for name, counts in missing_counts.items():\n",
    "    print(f\"Пропуски в {name}:\\n{counts}\")\n",
    "    print()"
   ]
  },
  {
   "cell_type": "code",
   "execution_count": 9,
   "id": "4aeaa886-3ad2-49d6-af35-5fd0c0605820",
   "metadata": {},
   "outputs": [
    {
     "name": "stdout",
     "output_type": "stream",
     "text": [
      "Очевидные дубли в train_df: 0\n",
      "\n",
      "Очевидные дубли в test_df: 0\n",
      "\n"
     ]
    }
   ],
   "source": [
    "#Смотрим дубли\n",
    "duplicates_counts = {name: df.duplicated().sum() for name, df in dataframes.items()}\n",
    "for name, count in duplicates_counts.items():\n",
    "    print(f\"Очевидные дубли в {name}: {count}\")\n",
    "    print()"
   ]
  },
  {
   "cell_type": "code",
   "execution_count": 10,
   "id": "c956c233-7acf-426b-af82-154494f3c2d3",
   "metadata": {},
   "outputs": [
    {
     "data": {
      "text/plain": [
       "(          name                     category_list  funding_total_usd  \\\n",
       " 46394    alike                       Curated Web           25000.00   \n",
       " 7330     alike                            Design                NaN   \n",
       " 46996  artsper                               Art         1684764.31   \n",
       " 3250   artsper  Art|E-Commerce|Marketplaces|SaaS          413177.00   \n",
       " 16032  beeline                               NaN                NaN   \n",
       " 9006   beeline                          Software           75000.00   \n",
       " 26422     beme                        E-Commerce         2619242.00   \n",
       " 16073     beme                             Video         2000000.00   \n",
       " 36847    blinq                              Apps          100000.00   \n",
       " 21401    blinq        Online Dating|Social Media         1000000.00   \n",
       " \n",
       "           status country_code state_code  funding_rounds  \n",
       " 46394  operating          USA         WA               1  \n",
       " 7330      closed          FRA         A8               1  \n",
       " 46996  operating          FRA         A8               2  \n",
       " 3250   operating          FRA         A8               1  \n",
       " 16032  operating          NaN        NaN               1  \n",
       " 9006   operating          USA         FL               1  \n",
       " 26422  operating          USA         NY               1  \n",
       " 16073  operating          USA         NY               1  \n",
       " 36847  operating          USA         CA               1  \n",
       " 21401  operating          CHE         25               1  ,\n",
       "         name                                      category_list  \\\n",
       " 5735    quip       Collaboration|Mobile Commerce|Mobile Devices   \n",
       " 10178   quip                         Beauty|Fitness|Health Care   \n",
       " 1151   spoke  Contact Management|CRM|Crowdsourcing|Email|Hum...   \n",
       " 7040   spoke   E-Commerce|Fashion|Mens Specific|Online Shopping   \n",
       " \n",
       "        funding_total_usd country_code state_code  funding_rounds  \n",
       " 5735         45000000.00          USA         CA               2  \n",
       " 10178          300000.00          USA         NY               2  \n",
       " 1151         25100000.00          USA         CA               3  \n",
       " 7040           272895.00          GBR         H9               2  )"
      ]
     },
     "execution_count": 10,
     "metadata": {},
     "output_type": "execute_result"
    }
   ],
   "source": [
    "#Проверим неочевидные дубли по уникальному признаку\n",
    "for df in [train_df, test_df, names_df]:\n",
    "    df['name'] = df['name'].str.lower()\n",
    "\n",
    "duplicates_info = {}\n",
    "\n",
    "#Проверяем на дубли\n",
    "for name, df in zip(['train_df', 'test_df', 'names_df'], [train_df, test_df, names_df]):\n",
    "    duplicates_count = df['name'].duplicated().sum()\n",
    "    duplicates_info[name] = {\n",
    "        'count': duplicates_count,\n",
    "        'duplicates': df[df.duplicated(subset='name', keep=False)]}\n",
    "\n",
    "#Сравним дубли и проверим являются ли они дублями\n",
    "train_duplicates_comparison = duplicates_info['train_df']['duplicates'][['name', 'category_list', 'funding_total_usd',\n",
    "                                                                         'status', 'country_code',\n",
    "                                                                         'state_code', 'funding_rounds']].sort_values(by='name').head(10)\n",
    "test_duplicates_comparison = duplicates_info['test_df']['duplicates'][['name', 'category_list', 'funding_total_usd',\n",
    "                                                                       'country_code', 'state_code',\n",
    "                                                                       'funding_rounds']].sort_values(by='name').head(10)\n",
    "\n",
    "train_duplicates_comparison, test_duplicates_comparison"
   ]
  },
  {
   "cell_type": "markdown",
   "id": "6c127e40-5a92-453b-8279-769b1a42ee9c",
   "metadata": {},
   "source": [
    "Оставим дубликаты по названию, скорее всего это разные стартапы, просто с одниаковыми названиями"
   ]
  },
  {
   "cell_type": "code",
   "execution_count": 11,
   "id": "6ac1cff4-ed8d-4541-bc9f-995ce795451c",
   "metadata": {},
   "outputs": [
    {
     "data": {
      "text/plain": [
       "(country_code  state_code\n",
       " USA           CA            10219\n",
       " NaN           NaN            5502\n",
       " USA           NY             3112\n",
       "               MA             2020\n",
       "               TX             1562\n",
       " GBR           H9             1510\n",
       " USA           FL             1038\n",
       "               WA              997\n",
       "               IL              859\n",
       "               PA              795\n",
       " Name: count, dtype: int64,\n",
       " country_code\n",
       " SGP    356\n",
       " HKG    162\n",
       " CHN    115\n",
       " ISR     84\n",
       " GBR     83\n",
       "       ... \n",
       " ARG      1\n",
       " BLM      1\n",
       " NGA      1\n",
       " PSE      1\n",
       " ZMB      1\n",
       " Name: count, Length: 76, dtype: int64)"
      ]
     },
     "execution_count": 11,
     "metadata": {},
     "output_type": "execute_result"
    }
   ],
   "source": [
    "#Посмотрим на частоту распредления, может будет идея как заполнить пропуски\n",
    "country_state_distribution = train_df[['country_code', 'state_code']].value_counts(dropna=False).head(10)\n",
    "\n",
    "missing_state_by_country = train_df['country_code'][train_df['state_code'].isnull()].value_counts()\n",
    "\n",
    "country_state_distribution, missing_state_by_country"
   ]
  },
  {
   "cell_type": "code",
   "execution_count": 12,
   "id": "f0c44d06-d5c1-4615-9531-a7fe8f255ff2",
   "metadata": {},
   "outputs": [],
   "source": [
    "#Очевидных идей не появилось, заменим все заглушками\n",
    "fill_values = {\n",
    "    'state_code': 'UNKNOWN_STATE',\n",
    "    'country_code': 'UNKNOWN_COUNTRY',\n",
    "    'region': 'UNKNOWN_REGION',\n",
    "    'city': 'UNKNOWN_CITY'\n",
    "}\n",
    "\n",
    "#Заполним пропуски заглушками\n",
    "for column, fill_value in fill_values.items():\n",
    "    train_df[column] = train_df[column].fillna(fill_value)\n",
    "    test_df[column] = test_df[column].fillna(fill_value)"
   ]
  },
  {
   "cell_type": "code",
   "execution_count": 13,
   "id": "05f18fc3-f9c3-4421-a8a3-e570fbbfb956",
   "metadata": {},
   "outputs": [
    {
     "data": {
      "text/html": [
       "<div>\n",
       "<style scoped>\n",
       "    .dataframe tbody tr th:only-of-type {\n",
       "        vertical-align: middle;\n",
       "    }\n",
       "\n",
       "    .dataframe tbody tr th {\n",
       "        vertical-align: top;\n",
       "    }\n",
       "\n",
       "    .dataframe thead th {\n",
       "        text-align: right;\n",
       "    }\n",
       "</style>\n",
       "<table border=\"1\" class=\"dataframe\">\n",
       "  <thead>\n",
       "    <tr style=\"text-align: right;\">\n",
       "      <th></th>\n",
       "      <th>name</th>\n",
       "      <th>founded_at</th>\n",
       "      <th>last_funding_at</th>\n",
       "      <th>lifetime</th>\n",
       "    </tr>\n",
       "  </thead>\n",
       "  <tbody>\n",
       "    <tr>\n",
       "      <th>0</th>\n",
       "      <td>lunchgate</td>\n",
       "      <td>2009-10-17</td>\n",
       "      <td>2014-12-01</td>\n",
       "      <td>2242</td>\n",
       "    </tr>\n",
       "    <tr>\n",
       "      <th>1</th>\n",
       "      <td>earlens</td>\n",
       "      <td>2005-01-01</td>\n",
       "      <td>2014-02-25</td>\n",
       "      <td>3992</td>\n",
       "    </tr>\n",
       "    <tr>\n",
       "      <th>2</th>\n",
       "      <td>reviva pharmaceuticals</td>\n",
       "      <td>2006-01-01</td>\n",
       "      <td>2014-07-02</td>\n",
       "      <td>3627</td>\n",
       "    </tr>\n",
       "    <tr>\n",
       "      <th>3</th>\n",
       "      <td>sancilio and company</td>\n",
       "      <td>2004-01-01</td>\n",
       "      <td>2014-07-18</td>\n",
       "      <td>4358</td>\n",
       "    </tr>\n",
       "    <tr>\n",
       "      <th>4</th>\n",
       "      <td>wiretough cylinders</td>\n",
       "      <td>2010-05-12</td>\n",
       "      <td>2012-02-01</td>\n",
       "      <td>2035</td>\n",
       "    </tr>\n",
       "  </tbody>\n",
       "</table>\n",
       "</div>"
      ],
      "text/plain": [
       "                     name founded_at last_funding_at  lifetime\n",
       "0               lunchgate 2009-10-17      2014-12-01      2242\n",
       "1                 earlens 2005-01-01      2014-02-25      3992\n",
       "2  reviva pharmaceuticals 2006-01-01      2014-07-02      3627\n",
       "3    sancilio and company 2004-01-01      2014-07-18      4358\n",
       "4     wiretough cylinders 2010-05-12      2012-02-01      2035"
      ]
     },
     "execution_count": 13,
     "metadata": {},
     "output_type": "execute_result"
    }
   ],
   "source": [
    "#Выберем last_fundig_at как максимальное значение для подсчета lifetime в тренировочной и преобразуем данные для рассчетов\n",
    "max_last_funding_date = pd.to_datetime(train_df['last_funding_at']).max()\n",
    "\n",
    "train_df[['founded_at', 'closed_at']] = train_df[['founded_at', 'closed_at']].apply(pd.to_datetime, errors='coerce')\n",
    "\n",
    "train_df['lifetime'] = (train_df['closed_at'].fillna(max_last_funding_date) - train_df['founded_at']).dt.days\n",
    "\n",
    "\n",
    "#Посмотрим что получилось\n",
    "train_df[['name', 'founded_at', 'last_funding_at', 'lifetime']].head()\n"
   ]
  },
  {
   "cell_type": "code",
   "execution_count": 14,
   "id": "b3c1f8ba-b5b7-457e-98ef-9d49d0e0a2f7",
   "metadata": {},
   "outputs": [
    {
     "data": {
      "image/png": "[encoded data removed]",
      "text/plain": [
       "<Figure size 1200x600 with 1 Axes>"
      ]
     },
     "metadata": {},
     "output_type": "display_data"
    }
   ],
   "source": [
    "#Посмотрим в целом как распределено lifetime\n",
    "plt.figure(figsize=(12, 6))\n",
    "plt.hist(train_df['lifetime'], bins=50, alpha=0.5, label='Train - Lifetime', color='blue')\n",
    "plt.hist(test_df['lifetime'], bins=50, alpha=0.5, label='Test - Lifetime', color='orange')\n",
    "plt.xlabel('Lifetime (days)')\n",
    "plt.ylabel('Frequency')\n",
    "plt.title('Comparison of Lifetime Distribution in Train and Test Sets')\n",
    "plt.legend()\n",
    "plt.show()"
   ]
  },
  {
   "cell_type": "markdown",
   "id": "7f9fb8d5-ca9e-4822-ac2b-b7a889db8397",
   "metadata": {},
   "source": [
    "Судя по графику мы очень похоже сгенерировали lifetime для тренировочной выборки, распредление похоже на распределение в тестовой, можно удалить closed_at из тренировочной выборки "
   ]
  },
  {
   "cell_type": "code",
   "execution_count": 15,
   "id": "2b1f5c1a-ca88-498b-a298-27b525f72704",
   "metadata": {},
   "outputs": [],
   "source": [
    "#Удаляем ненуджный признак\n",
    "train_df.drop(columns=['closed_at'], inplace=True)"
   ]
  },
  {
   "cell_type": "code",
   "execution_count": 16,
   "id": "c684c39c-6a63-49d0-94a2-a957bf58ccf6",
   "metadata": {},
   "outputs": [
    {
     "name": "stdout",
     "output_type": "stream",
     "text": [
      "Общее количество уникальных категорий: 267\n",
      "\n",
      "Категории с частотой более 100:\n",
      "software                  7017\n",
      "mobile                    4399\n",
      "biotechnology             3668\n",
      "e-commerce                3308\n",
      "                          2465\n",
      "curated web               2407\n",
      "social media              2284\n",
      "enterprise software       2193\n",
      "advertising               1985\n",
      "health care               1885\n",
      "games                     1810\n",
      "internet                  1663\n",
      "saas                      1595\n",
      "health and wellness       1513\n",
      "education                 1491\n",
      "analytics                 1477\n",
      "apps                      1468\n",
      "finance                   1455\n",
      "technology                1441\n",
      "clean technology          1226\n",
      "hardware + software       1171\n",
      "services                  1136\n",
      "manufacturing             1080\n",
      "medical                    951\n",
      "marketplaces               890\n",
      "security                   870\n",
      "video                      866\n",
      "fashion                    832\n",
      "big data                   746\n",
      "entertainment              745\n",
      "cloud computing            745\n",
      "real estate                734\n",
      "consulting                 729\n",
      "travel                     724\n",
      "information technology     719\n",
      "music                      676\n",
      "networking                 670\n",
      "search                     670\n",
      "media                      667\n",
      "social network media       663\n",
      "news                       649\n",
      "sales and marketing        633\n",
      "hospitality                633\n",
      "startups                   631\n",
      "sports                     628\n",
      "retail                     625\n",
      "financial services         611\n",
      "design                     588\n",
      "fintech                    588\n",
      "web hosting                576\n",
      "semiconductors             565\n",
      "messaging                  540\n",
      "Name: count, dtype: int64\n"
     ]
    }
   ],
   "source": [
    "#Большое количество категорий проверим на уникальность и определим в другие категории по словарю\n",
    "all_categories_series = pd.Series(\n",
    "    [cat for sublist in train_df['category_list'].fillna('').str.lower().str.split('|') for cat in sublist])\n",
    "\n",
    "# Подсчитываем частоту категорий\n",
    "category_counts = all_categories_series.value_counts()\n",
    "\n",
    "# Общее количество уникальных значений\n",
    "total_unique_categories = category_counts.nunique()\n",
    "print(f\"Общее количество уникальных категорий: {total_unique_categories}\")\n",
    "\n",
    "# Категории с частотой более 100\n",
    "high_frequency_categories = category_counts[category_counts >500]\n",
    "print(\"\\nКатегории с частотой более 100:\")\n",
    "print(high_frequency_categories)"
   ]
  },
  {
   "cell_type": "markdown",
   "id": "219409e0-ea7c-43fb-a80f-8a1bce0e93ae",
   "metadata": {},
   "source": [
    "Решено обхединить огромное количество категорий в более общие группы, чтобы сократить вариативность. В прочую категорию отнесем редковстречающиеся варианты. Мы снизим размерность и избавимся от лишних шумов в данных, так модель проще распонзнает закономерности. Возможный минус - дисбаланс классов"
   ]
  },
  {
   "cell_type": "code",
   "execution_count": 17,
   "id": "21450b23-3ae3-47d2-9308-ad1ad5684d09",
   "metadata": {},
   "outputs": [
    {
     "data": {
      "text/plain": [
       "(category\n",
       " tech_innovations         14385\n",
       " miscellaneous            12913\n",
       " health_biotech            6738\n",
       " digital_social            5719\n",
       " ecommerce_retail          2830\n",
       " digital_entertainment     2380\n",
       " industrial_hardware       1519\n",
       " financial_tech            1501\n",
       " consulting_services       1439\n",
       " sustainable_tech          1186\n",
       " edu_elearning             1018\n",
       " lifestyle_travel           888\n",
       " Name: count, dtype: int64,\n",
       " category\n",
       " tech_innovations         3474\n",
       " miscellaneous            3255\n",
       " health_biotech           1672\n",
       " digital_social           1464\n",
       " ecommerce_retail          688\n",
       " digital_entertainment     597\n",
       " industrial_hardware       394\n",
       " consulting_services       384\n",
       " financial_tech            375\n",
       " sustainable_tech          324\n",
       " edu_elearning             278\n",
       " lifestyle_travel          220\n",
       " Name: count, dtype: int64)"
      ]
     },
     "execution_count": 17,
     "metadata": {},
     "output_type": "execute_result"
    }
   ],
   "source": [
    "#Присвоим категории\n",
    "def categorize_group(category_list):\n",
    "    if pd.isna(category_list):\n",
    "        return 'miscellaneous'\n",
    "    \n",
    "    category_list = category_list.lower().split('|')\n",
    "    \n",
    "    if any(cat in category_list for cat in ['software', 'enterprise software', 'saas', 'apps', 'analytics', 'internet', 'technology', 'cloud computing']):\n",
    "        return 'tech_innovations'\n",
    "    elif any(cat in category_list for cat in ['biotechnology', 'health care', 'health and wellness', 'medical devices', 'medical', 'pharmaceutical']):\n",
    "        return 'health_biotech'\n",
    "    elif any(cat in category_list for cat in ['social media', 'curated web', 'advertising', 'social network media', 'messaging', 'networking']):\n",
    "        return 'digital_social'\n",
    "    elif any(cat in category_list for cat in ['finance', 'financial services', 'fintech']):\n",
    "        return 'financial_tech'\n",
    "    elif any(cat in category_list for cat in ['education', 'e-learning']):\n",
    "        return 'edu_elearning'\n",
    "    elif any(cat in category_list for cat in ['clean technology', 'environmental', 'green', 'sustainability']):\n",
    "        return 'sustainable_tech'\n",
    "    elif any(cat in category_list for cat in ['games', 'entertainment', 'video', 'media', 'music']):\n",
    "        return 'digital_entertainment'\n",
    "    elif any(cat in category_list for cat in ['manufacturing', 'hardware', 'industrial', 'semiconductors']):\n",
    "        return 'industrial_hardware'\n",
    "    elif any(cat in category_list for cat in ['e-commerce', 'retail', 'marketplaces']):\n",
    "        return 'ecommerce_retail'\n",
    "    elif any(cat in category_list for cat in ['consulting', 'services', 'hospitality']):\n",
    "        return 'consulting_services'\n",
    "    elif any(cat in category_list for cat in ['travel', 'real estate']):\n",
    "        return 'lifestyle_travel'\n",
    "    else:\n",
    "        return 'miscellaneous'\n",
    "\n",
    "#Заменим категории\n",
    "def categorize_and_rename(df, column_name='category_list', new_name='category'):\n",
    "    df[column_name] = df[column_name].apply(categorize_group)\n",
    "    df.rename(columns={column_name: new_name}, inplace=True)\n",
    "    return df[new_name].value_counts()\n",
    "\n",
    "#Посмотрим что получилось\n",
    "train_category_counts = categorize_and_rename(train_df)\n",
    "test_category_counts = categorize_and_rename(test_df)\n",
    "\n",
    "train_category_counts, test_category_counts\n",
    "\n"
   ]
  },
  {
   "cell_type": "markdown",
   "id": "4e212c1c-30b6-4edf-90ea-bbadcf36185e",
   "metadata": {},
   "source": [
    "Присутствует небольшой дисбаланс классов, посмотрим насколько сильно это будет влиять на модель"
   ]
  },
  {
   "cell_type": "code",
   "execution_count": 18,
   "id": "f740506b-7fcd-4dbd-b031-1a9ce44fb659",
   "metadata": {},
   "outputs": [],
   "source": [
    "#Заполним пустые значения в финансировании медианой по категориям\n",
    "funding_median_by_category = train_df.groupby('category')['funding_total_usd'].median()\n",
    "overall_funding_median = train_df['funding_total_usd'].median()\n",
    "\n",
    "train_df['funding_total_usd'] = train_df['funding_total_usd'].fillna(\n",
    "    train_df['category'].map(funding_median_by_category).fillna(overall_funding_median))\n",
    "\n",
    "test_df['funding_total_usd'] = test_df['funding_total_usd'].fillna(\n",
    "    test_df['category'].map(funding_median_by_category).fillna(overall_funding_median))\n",
    "\n",
    "train_df.drop(columns=['founded_at'], inplace=True, errors='ignore')\n",
    "train_df = train_df.dropna(subset=['name'])"
   ]
  },
  {
   "cell_type": "code",
   "execution_count": 19,
   "id": "3baef8b5-c3dc-43ca-befd-22cab3455f12",
   "metadata": {},
   "outputs": [
    {
     "data": {
      "text/plain": [
       "name                 0\n",
       "category             0\n",
       "funding_total_usd    0\n",
       "status               0\n",
       "country_code         0\n",
       "state_code           0\n",
       "region               0\n",
       "city                 0\n",
       "funding_rounds       0\n",
       "first_funding_at     0\n",
       "last_funding_at      0\n",
       "lifetime             0\n",
       "dtype: int64"
      ]
     },
     "execution_count": 19,
     "metadata": {},
     "output_type": "execute_result"
    }
   ],
   "source": [
    "train_df.isna().sum()"
   ]
  },
  {
   "cell_type": "code",
   "execution_count": 20,
   "id": "758d5823-2d93-44cf-8666-3ec468b71827",
   "metadata": {},
   "outputs": [
    {
     "data": {
      "text/plain": [
       "name                 0\n",
       "category             0\n",
       "funding_total_usd    0\n",
       "country_code         0\n",
       "state_code           0\n",
       "region               0\n",
       "city                 0\n",
       "funding_rounds       0\n",
       "first_funding_at     0\n",
       "last_funding_at      0\n",
       "lifetime             0\n",
       "status               0\n",
       "dtype: int64"
      ]
     },
     "execution_count": 20,
     "metadata": {},
     "output_type": "execute_result"
    }
   ],
   "source": [
    "test_df.isna().sum()"
   ]
  },
  {
   "cell_type": "markdown",
   "id": "7b2b4b94-2756-4b40-a1d4-deb35b895386",
   "metadata": {},
   "source": [
    "Выводы:\n",
    "\n",
    "- Удалили одну строку в тренировочной выборке, где колонка name содержала пропущенное значение\n",
    "\n",
    "-  Проверили уникальные значения в категориальных признаках, провели их объединение в более крупные группы, тем самым сократили множество уникальных значений\n",
    "\n",
    "- Пропуски в колонке, связанной с финансированием, были заполнены медианным значением, рассчитанным по каждой категории\n",
    "\n",
    "- На основе данных с даты основания и закрытия стартапа в тренировочную выборку добавлен новый признак lifetime\n",
    "\n",
    "- Пропуски в признаках state_code, country_code, region и city заменены на заглушки, так как оптимального способа заполнения на основе других данных не нашли\n",
    "\n",
    "- Типы данных в колоснках с датами привели к оптимальному формату\n",
    "\n",
    "- Провели проверку на очевидные дубликаты\n",
    "\n",
    "- Удаление дат closed_at и founded_at из тренировочной выборки, эти даты уже использованы для создания признака lifetime"
   ]
  },
  {
   "cell_type": "markdown",
   "id": "e217db23-cc27-4bb6-83fa-a1ef80a2776d",
   "metadata": {},
   "source": [
    "## Анализ распределения признаков"
   ]
  },
  {
   "cell_type": "code",
   "execution_count": 21,
   "id": "336b52f7-baaf-492f-918b-7be7344fc891",
   "metadata": {},
   "outputs": [
    {
     "name": "stdout",
     "output_type": "stream",
     "text": [
      "count         52515.00\n",
      "mean       15141534.10\n",
      "std       168348383.51\n",
      "min               1.00\n",
      "25%          530000.00\n",
      "50%         1750000.00\n",
      "75%         7000000.00\n",
      "max     30079503000.00\n",
      "Name: funding_total_usd, dtype: float64 \n",
      "\n"
     ]
    },
    {
     "data": {
      "image/png": "[encoded data removed]",
      "text/plain": [
       "<Figure size 700x400 with 1 Axes>"
      ]
     },
     "metadata": {},
     "output_type": "display_data"
    }
   ],
   "source": [
    "#Фукнкция для просмотра распределения\n",
    "def analyze_feature_boxplot(df, feature):\n",
    "    print(df[feature].describe(), \"\\n\")\n",
    "    \n",
    "    plt.figure(figsize=(7, 4))\n",
    "    sns.boxplot(df[feature])\n",
    "    plt.title(f'{feature} Boxplot in Dataset')\n",
    "    plt.ticklabel_format(style='plain', axis='y')\n",
    "    plt.show()\n",
    "\n",
    "analyze_feature_boxplot(train_df, 'funding_total_usd')"
   ]
  },
  {
   "cell_type": "code",
   "execution_count": 22,
   "id": "6fb092bd-b68d-42ec-a18b-5385c6eef7a3",
   "metadata": {},
   "outputs": [
    {
     "name": "stdout",
     "output_type": "stream",
     "text": [
      "Удалено строк: 267\n",
      "Процент удаленных строк: 0.51%\n"
     ]
    }
   ],
   "source": [
    "#Удалим выбивающиейся значения и посмотрим сколько удалилось строк\n",
    "rows_deleted = train_df.shape[0] - train_df[train_df['funding_total_usd'] <= 300000000].shape[0]\n",
    "train_df = train_df[train_df['funding_total_usd'] <= 300000000]\n",
    "percent_deleted = (rows_deleted / (rows_deleted + train_df.shape[0])) * 100\n",
    "\n",
    "print(\"Удалено строк:\", rows_deleted)\n",
    "print(\"Процент удаленных строк:\", f\"{percent_deleted:.2f}%\")"
   ]
  },
  {
   "cell_type": "markdown",
   "id": "576be636-34e6-4888-8178-5feaf6c2d0cd",
   "metadata": {},
   "source": [
    "Судя по графику есть очевидные аномалии, удалим их, судя по распределению данных, потимальным было сделать срез для финансирования не более 300000000. Минимальное финансирование в 1 доллар решено оставить, т.к. не является аномалией. Возможно это символизирует ранние этапы стартапа. Удалено окол половины процента строчек"
   ]
  },
  {
   "cell_type": "markdown",
   "id": "59831a92-eca6-4ae1-b19a-0f3a7686f5fd",
   "metadata": {},
   "source": [
    "analyze_feature_boxplot(train_df, 'funding_total_usd')"
   ]
  },
  {
   "cell_type": "code",
   "execution_count": 23,
   "id": "5aba45c6-8034-4d5c-90c7-c6ad2314eb73",
   "metadata": {},
   "outputs": [
    {
     "name": "stdout",
     "output_type": "stream",
     "text": [
      "Удалено строк в тестовой выборке: 62\n",
      "Процент удаленных строк в тестовой выборке: 0.47%\n"
     ]
    }
   ],
   "source": [
    "rows_deleted_test = test_df.shape[0] - test_df[test_df['funding_total_usd'] <= 300000000].shape[0]\n",
    "test_df = test_df[test_df['funding_total_usd'] <= 300000000]\n",
    "percent_deleted_test = (rows_deleted_test / (rows_deleted_test + test_df.shape[0])) * 100\n",
    "\n",
    "print(\"Удалено строк в тестовой выборке:\", rows_deleted_test)\n",
    "print(\"Процент удаленных строк в тестовой выборке:\", f\"{percent_deleted_test:.2f}%\")"
   ]
  },
  {
   "cell_type": "markdown",
   "id": "27be098b-a441-4556-83f7-0fd41ea1cb3f",
   "metadata": {},
   "source": [
    "Аналогично тренировочной выборке, удалено меньше процента строчек"
   ]
  },
  {
   "cell_type": "code",
   "execution_count": 24,
   "id": "24bf205e-6e22-4dc3-99ab-4a3f624262b9",
   "metadata": {},
   "outputs": [
    {
     "name": "stdout",
     "output_type": "stream",
     "text": [
      "count   52248.00\n",
      "mean     2446.79\n",
      "std      2091.13\n",
      "min       -25.00\n",
      "25%      1070.00\n",
      "50%      1801.00\n",
      "75%      3262.00\n",
      "max     17004.00\n",
      "Name: lifetime, dtype: float64 \n",
      "\n"
     ]
    },
    {
     "data": {
      "image/png": "[encoded data removed]",
      "text/plain": [
       "<Figure size 700x400 with 1 Axes>"
      ]
     },
     "metadata": {},
     "output_type": "display_data"
    }
   ],
   "source": [
    "analyze_feature_boxplot(train_df, 'lifetime')"
   ]
  },
  {
   "cell_type": "code",
   "execution_count": 25,
   "id": "9181793c-e983-4c2a-a41c-92d7e076b180",
   "metadata": {},
   "outputs": [
    {
     "name": "stdout",
     "output_type": "stream",
     "text": [
      "Удалено строк с отрицательным lifetime: 3\n",
      "Процент удаленных строк: 0.01%\n"
     ]
    }
   ],
   "source": [
    "#убираем отрицательные и нулевые значения \n",
    "initial_row_count_lifetime = train_df.shape[0]  # Сохраняем исходное количество строк\n",
    "train_df = train_df[train_df['lifetime'] >= 1]  # Удаляем строки с отрицательными значениями\n",
    "\n",
    "rows_deleted_lifetime = initial_row_count_lifetime - train_df.shape[0]\n",
    "percent_deleted_lifetime = (rows_deleted_lifetime / initial_row_count_lifetime) * 100\n",
    "print(\"Удалено строк с отрицательным lifetime:\", rows_deleted_lifetime)\n",
    "print(\"Процент удаленных строк:\", f\"{percent_deleted_lifetime:.2f}%\")"
   ]
  },
  {
   "cell_type": "markdown",
   "id": "d187d21a-dbdc-4c61-8fe7-ced566de38d1",
   "metadata": {},
   "source": [
    "Убрали отрицательное значение стартапов, удалено 3 строчки ситуацию."
   ]
  },
  {
   "cell_type": "code",
   "execution_count": 26,
   "id": "c21a2c79-0479-476f-9c6b-af26469fd94e",
   "metadata": {},
   "outputs": [
    {
     "name": "stdout",
     "output_type": "stream",
     "text": [
      "count   13063.00\n",
      "mean     3086.91\n",
      "std      2112.93\n",
      "min        52.00\n",
      "25%      1720.00\n",
      "50%      2517.00\n",
      "75%      3837.00\n",
      "max     16802.00\n",
      "Name: lifetime, dtype: float64 \n",
      "\n"
     ]
    },
    {
     "data": {
      "image/png": "[encoded data removed]",
      "text/plain": [
       "<Figure size 700x400 with 1 Axes>"
      ]
     },
     "metadata": {},
     "output_type": "display_data"
    }
   ],
   "source": [
    "analyze_feature_boxplot(test_df, 'lifetime')"
   ]
  },
  {
   "cell_type": "code",
   "execution_count": 27,
   "id": "0a23f7c3-4b9a-4ed1-82d3-02fe06157438",
   "metadata": {},
   "outputs": [
    {
     "data": {
      "image/png": "[encoded data removed]",
      "text/plain": [
       "<Figure size 600x600 with 1 Axes>"
      ]
     },
     "metadata": {},
     "output_type": "display_data"
    }
   ],
   "source": [
    "#Посмотрим на распределение целевого признака\n",
    "status_distribution = train_df['status'].value_counts(normalize=True) * 100\n",
    "\n",
    "plt.figure(figsize=(6, 6))\n",
    "plt.pie(status_distribution, labels=status_distribution.index, autopct='%1.1f%%', startangle=140)\n",
    "plt.title(\"Class Distribution in 'status'\")\n",
    "plt.show()"
   ]
  },
  {
   "cell_type": "markdown",
   "id": "24664c31-ae15-4eca-9d24-1494f2301c73",
   "metadata": {},
   "source": [
    "Высокий дисбаланс целевого признака, для оценки модели будем испоьзовать f1-меру "
   ]
  },
  {
   "cell_type": "markdown",
   "id": "8ee58c0c-4940-4838-a132-df550520d244",
   "metadata": {},
   "source": [
    "Выводы:\n",
    "\n",
    "- Проанализировали распределения значений в числовых признаках и выявили аномалии\n",
    " - Для финансирования сделали ограничение — 300000000, что привело к удалению 0.51% данных в тренировочной выборке и 0.47% в тестовой\n",
    " - Удалили отрицательные значения в lifetime\n",
    "\n",
    "- Распределение целевого признака сильно дисбалансно, 90.6% у одного класса и 9.4% у другого. В следствии этого будем использовать f1-меру как основную метрику"
   ]
  },
  {
   "cell_type": "markdown",
   "id": "8d7b352c-e6dd-40d3-8f30-4b897c4e3d40",
   "metadata": {},
   "source": [
    "## Проверка Корреляции "
   ]
  },
  {
   "cell_type": "code",
   "execution_count": 28,
   "id": "1dcf6640-d30c-40ef-b9b1-cd4ca3332069",
   "metadata": {},
   "outputs": [
    {
     "name": "stderr",
     "output_type": "stream",
     "text": [
      "C:\\Users\\User\\anaconda3\\Lib\\site-packages\\phik\\data_quality.py:59: UserWarning: The number of unique values of variable last_funding_at is large: 1401. Are you sure this is not an interval variable? Analysis for pairs of variables including last_funding_at can be slow.\n",
      "  warnings.warn(\n"
     ]
    },
    {
     "data": {
      "text/plain": [
       "<Figure size 1000x800 with 0 Axes>"
      ]
     },
     "metadata": {},
     "output_type": "display_data"
    },
    {
     "data": {
      "image/png": "[encoded data removed]",
      "text/plain": [
       "<Figure size 700x500 with 2 Axes>"
      ]
     },
     "metadata": {},
     "output_type": "display_data"
    }
   ],
   "source": [
    "#Данных много, возьмем часть из них, чтобы проверить корреляцию\n",
    "sampled_df = train_df.sample(frac=0.05, random_state=42)\n",
    "\n",
    "#Уберем столбцы с датами и именем\n",
    "sampled_df_reduced = sampled_df.drop(columns=['first_funding_at', 'name'], errors='ignore')\n",
    "\n",
    "#Считаем и строим phik матрицу\n",
    "phik_matrix_sampled_reduced = sampled_df_reduced.phik_matrix(interval_cols=['funding_total_usd', 'funding_rounds', 'lifetime'])\n",
    "plt.figure(figsize=(10, 8))\n",
    "plot_correlation_matrix(phik_matrix_sampled_reduced.values,\n",
    "                        x_labels=phik_matrix_sampled_reduced.columns,\n",
    "                        y_labels=phik_matrix_sampled_reduced.index, title=\"Phik Correlation Matrix\")\n",
    "plt.show()"
   ]
  },
  {
   "cell_type": "code",
   "execution_count": 29,
   "id": "09490ec6-6697-464b-8e60-08bcc0f4c727",
   "metadata": {},
   "outputs": [
    {
     "name": "stderr",
     "output_type": "stream",
     "text": [
      "C:\\Users\\User\\AppData\\Local\\Temp\\ipykernel_5680\\3598063022.py:5: SettingWithCopyWarning: \n",
      "A value is trying to be set on a copy of a slice from a DataFrame\n",
      "\n",
      "See the caveats in the documentation: https://pandas.pydata.org/pandas-docs/stable/user_guide/indexing.html#returning-a-view-versus-a-copy\n",
      "  test_df.drop(columns=columns_to_drop, inplace=True, errors='ignore')\n"
     ]
    }
   ],
   "source": [
    "#Убераем столбцы с сильной корреляцией \n",
    "columns_to_drop = ['region', 'city', 'state_code']\n",
    "\n",
    "train_df.drop(columns=columns_to_drop, inplace=True, errors='ignore')\n",
    "test_df.drop(columns=columns_to_drop, inplace=True, errors='ignore')"
   ]
  },
  {
   "cell_type": "markdown",
   "id": "604a9766-5685-4f9b-8393-16ba26736da1",
   "metadata": {},
   "source": [
    "Выводы:\n",
    " - Построена матрица корреляции и провели анализ на мультиколлинеарность\n",
    "\n",
    " - Высокая корреляция между признаками region, city и state_code. Скорее всего проблема в наших заглушках\n",
    "   \n",
    " - Принято решение оставить только country_code как наиболее обобщенный признак, удалив region, city и state_code"
   ]
  },
  {
   "cell_type": "markdown",
   "id": "e592a64f-f914-4977-b24c-c902575f2ac7",
   "metadata": {},
   "source": [
    "## Построение моделей"
   ]
  },
  {
   "cell_type": "code",
   "execution_count": 30,
   "id": "adfbb143-e4cd-4056-a4bd-32540c2c9186",
   "metadata": {},
   "outputs": [],
   "source": [
    "#Подготовка данных \n",
    "def prepare_data(train_df, test_df, add_years=False, add_duration=False):\n",
    "    train_df_model = train_df.copy()\n",
    "    test_df_model = test_df.copy()\n",
    "    \n",
    "    #Для модели с извлеченным годом\n",
    "    if add_years:\n",
    "        train_df_model['first_funding_year'] = pd.to_datetime(train_df_model['first_funding_at']).dt.year\n",
    "        train_df_model['last_funding_year'] = pd.to_datetime(train_df_model['last_funding_at']).dt.year\n",
    "        test_df_model['first_funding_year'] = pd.to_datetime(test_df_model['first_funding_at']).dt.year\n",
    "        test_df_model['last_funding_year'] = pd.to_datetime(test_df_model['last_funding_at']).dt.year\n",
    "\n",
    "    #Для модели с временем финансирования\n",
    "    if add_duration:\n",
    "        train_df_model['funding_duration'] = train_df_model['last_funding_year'] - train_df_model['first_funding_year']\n",
    "        test_df_model['funding_duration'] = test_df_model['last_funding_year'] - test_df_model['first_funding_year']\n",
    "    \n",
    "    #Кодировка\n",
    "    label_encoder = LabelEncoder()\n",
    "    train_df_model['status'] = label_encoder.fit_transform(train_df_model['status'])\n",
    "    test_df_model['status'] = label_encoder.transform(test_df_model['status'])\n",
    "    \n",
    "    #Удаляем лишнее\n",
    "    train_df_model.drop(columns=['name', 'first_funding_at', 'last_funding_at'], inplace=True, errors='ignore')\n",
    "    test_df_model.drop(columns=['name', 'first_funding_at', 'last_funding_at'], inplace=True, errors='ignore')\n",
    "    \n",
    "    #Определим категории\n",
    "    ohe_columns = [col for col in ['country_code', 'category'] if col in train_df_model.columns]\n",
    "    num_columns = [col for col in ['funding_total_usd', 'funding_rounds', 'lifetime', \n",
    "                                   'first_funding_year', 'last_funding_year', 'funding_duration'] \n",
    "                   if col in train_df_model.columns]\n",
    "    \n",
    "    #Обучаем ohe\n",
    "    ohe_encoder = OneHotEncoder(drop='first', handle_unknown='ignore', sparse_output=False)\n",
    "    ohe_encoder.fit(train_df_model[ohe_columns])\n",
    "    \n",
    "    #Преобразуем ohe\n",
    "    train_ohe = pd.DataFrame(ohe_encoder.transform(train_df_model[ohe_columns]), \n",
    "                             columns=ohe_encoder.get_feature_names_out())\n",
    "    test_ohe = pd.DataFrame(ohe_encoder.transform(test_df_model[ohe_columns]), \n",
    "                            columns=ohe_encoder.get_feature_names_out())\n",
    "    \n",
    "    #Соеденим данные\n",
    "    train_df_final = pd.concat([train_df_model.reset_index(drop=True).drop(columns=ohe_columns), train_ohe], axis=1)\n",
    "    test_df_final = pd.concat([test_df_model.reset_index(drop=True).drop(columns=ohe_columns), test_ohe], axis=1)\n",
    "    \n",
    "    return train_df_final, test_df_final\n",
    "\n",
    "#Функиця для обучения и тестировки модели\n",
    "def train_and_evaluate_model(train_df, test_df):\n",
    "    #Пайплайн\n",
    "    pipe_final = Pipeline([\n",
    "        ('scaler', 'passthrough'),\n",
    "        ('models', LogisticRegression(solver='liblinear', random_state=42))\n",
    "    ])\n",
    "\n",
    "    #выбор моделей и параметров\n",
    "    param_grid = [\n",
    "        {\n",
    "            'models': [LogisticRegression(solver='liblinear', random_state=42)],\n",
    "            'models__C': [0.1, 1]\n",
    "        },\n",
    "        {\n",
    "            'models': [RandomForestClassifier(random_state=42, class_weight='balanced')],\n",
    "            'models__n_estimators': [100, 200],\n",
    "            'models__max_depth': [5, 10]\n",
    "        },\n",
    "        {\n",
    "            'models': [XGBClassifier(use_label_encoder=False, eval_metric='logloss')],\n",
    "            'models__learning_rate': [0.1],\n",
    "            'models__max_depth': [3, 5]\n",
    "        },\n",
    "        {\n",
    "            'models': [CatBoostClassifier(silent=True)],\n",
    "            'models__learning_rate': [0.1],\n",
    "            'models__depth': [4, 6]\n",
    "        },\n",
    "        {\n",
    "            'models': [KNeighborsClassifier()],\n",
    "            'models__n_neighbors': [3, 5],\n",
    "            'scaler': [StandardScaler(), MinMaxScaler()]  # Масштабируем для KNN\n",
    "        }\n",
    "    ]\n",
    "\n",
    "    #Gridserch\n",
    "    grid_search = GridSearchCV(pipe_final, param_grid, cv=5, scoring='f1', n_jobs=-1)\n",
    "    grid_search.fit(train_df.drop(columns=['status']), train_df['status'])\n",
    "    \n",
    "    #Выводим результат\n",
    "    print('Лучшая модель и её параметры:\\n', grid_search.best_estimator_)\n",
    "    \n",
    "    #Оценка\n",
    "    y_test_pred = grid_search.predict(test_df.drop(columns=['status']))\n",
    "    \n",
    "    #Метрика\n",
    "    print(f\"F1-мера на тестовой выборке: {f1_score(test_df['status'], y_test_pred)}\")\n"
   ]
  },
  {
   "cell_type": "markdown",
   "id": "3a964dad-f8b3-4eca-8702-bc608b7156a5",
   "metadata": {},
   "source": [
    "### Модель с начальными данными"
   ]
  },
  {
   "cell_type": "code",
   "execution_count": 31,
   "id": "deb5c5ac-037b-4148-9d9b-e3d9ceed8519",
   "metadata": {},
   "outputs": [
    {
     "name": "stderr",
     "output_type": "stream",
     "text": [
      "C:\\Users\\User\\anaconda3\\Lib\\site-packages\\sklearn\\preprocessing\\_encoders.py:241: UserWarning: Found unknown categories in columns [0] during transform. These unknown categories will be encoded as all zeros\n",
      "  warnings.warn(\n"
     ]
    },
    {
     "name": "stdout",
     "output_type": "stream",
     "text": [
      "Лучшая модель и её параметры:\n",
      " Pipeline(steps=[('scaler', 'passthrough'),\n",
      "                ('models',\n",
      "                 <catboost.core.CatBoostClassifier object at 0x0000021F88C8C910>)])\n",
      "F1-мера на тестовой выборке: 0.665635473060067\n"
     ]
    }
   ],
   "source": [
    "train_df_final, test_df_final = prepare_data(train_df, test_df)\n",
    "train_and_evaluate_model(train_df_final, test_df_final)"
   ]
  },
  {
   "cell_type": "markdown",
   "id": "5cd001e8-563d-49c1-891e-f8b01c9259a2",
   "metadata": {},
   "source": [
    "### Модель с извлеченными годами первмого и последнего финансирования "
   ]
  },
  {
   "cell_type": "code",
   "execution_count": 32,
   "id": "434639a9-fedb-4e7e-869f-d155a3254686",
   "metadata": {},
   "outputs": [
    {
     "name": "stderr",
     "output_type": "stream",
     "text": [
      "C:\\Users\\User\\anaconda3\\Lib\\site-packages\\sklearn\\preprocessing\\_encoders.py:241: UserWarning: Found unknown categories in columns [0] during transform. These unknown categories will be encoded as all zeros\n",
      "  warnings.warn(\n"
     ]
    },
    {
     "name": "stdout",
     "output_type": "stream",
     "text": [
      "Лучшая модель и её параметры:\n",
      " Pipeline(steps=[('scaler', 'passthrough'),\n",
      "                ('models',\n",
      "                 <catboost.core.CatBoostClassifier object at 0x0000021F87864210>)])\n",
      "F1-мера на тестовой выборке: 0.6516516516516516\n"
     ]
    }
   ],
   "source": [
    "train_df_final_years, test_df_final_years = prepare_data(train_df, test_df, add_years=True)\n",
    "train_and_evaluate_model(train_df_final_years, test_df_final_years)"
   ]
  },
  {
   "cell_type": "markdown",
   "id": "fcb10fae-9d7c-4369-826d-a359944b1608",
   "metadata": {},
   "source": [
    "### Модель с годами и временным промежутком, когда было финансирование"
   ]
  },
  {
   "cell_type": "code",
   "execution_count": 33,
   "id": "384d9529-ac96-490e-8224-ef2a531110cb",
   "metadata": {},
   "outputs": [
    {
     "name": "stderr",
     "output_type": "stream",
     "text": [
      "C:\\Users\\User\\anaconda3\\Lib\\site-packages\\sklearn\\preprocessing\\_encoders.py:241: UserWarning: Found unknown categories in columns [0] during transform. These unknown categories will be encoded as all zeros\n",
      "  warnings.warn(\n"
     ]
    },
    {
     "name": "stdout",
     "output_type": "stream",
     "text": [
      "Лучшая модель и её параметры:\n",
      " Pipeline(steps=[('scaler', 'passthrough'),\n",
      "                ('models',\n",
      "                 <catboost.core.CatBoostClassifier object at 0x0000021F878B8BD0>)])\n",
      "F1-мера на тестовой выборке: 0.6518081971604608\n"
     ]
    }
   ],
   "source": [
    "train_df_final_duration, test_df_final_duration = prepare_data(train_df, test_df, add_years=True, add_duration=True)\n",
    "train_and_evaluate_model(train_df_final_duration, test_df_final_duration)"
   ]
  },
  {
   "cell_type": "markdown",
   "id": "cfbae21d-a064-4294-9394-2552682e5c0e",
   "metadata": {},
   "source": [
    "Выводы:\n",
    "\n",
    "Результаты каждой модели:\n",
    "\n",
    " - Первая модель достигла наибольшей F1-метрики: 0.6656.\n",
    " - Вторая модель показала F1-меру: 0.6517.\n",
    " - Третья модель — F1-мера: 0.6518.\n",
    "\n",
    "Наиболее высокую F1-метрику показала первая модель CatBoostClassifier. Параметры модели: CatBoost со значениями по умолчанию. Метрика показывает что модель балансирует между полнотой и точностью предсказаний, важно при дисбалансе класса. Метрика относительно низкая, возомжности для улучшения:\n",
    "\n",
    " - Дополнительные признаки\n",
    " - Более тонкая настройка гиперпараметров"
   ]
  },
  {
   "cell_type": "markdown",
   "id": "191cc14d-2e63-442a-b232-3e0372ace440",
   "metadata": {},
   "source": [
    "## Общий вывод\n",
    "___\n",
    "\n",
    "Загрузка и первичная проверка данных: \n",
    " - Загружены три набора данных (тестовая и тренировочная выборки, а также датафрейм со статусами компаний). Были выявлены различия в категориях и столбцах между тренировочными и тестовыми выборками, а также наличие пропусков. Кроме того, данные с годами имели неподходящий тип\n",
    "\n",
    "___\n",
    "\n",
    "Предобработка данных:\n",
    "\n",
    " - Удалена одна строка с пропуском в поле name\n",
    " - Проверены уникальные категории, некоторые из которых были объединены в более крупные группы для упрощения\n",
    " - Пропуски в финансировании заменены медианными значениями, рассчитанными в зависимости от категории. Для state_code, country_code, region, city были установлены заглушки из-за отсутствия оптимального способа заполнения этих пропусков\n",
    " - На основе данных о дате основания и закрытия стартапа добавлен признак lifetime, который характеризует общее время существования компании. Затем удалены столбцы closed_at и founded_at из тренировочной выборки\n",
    " - Даты были приведены к нужному типу данных, также проведена проверка на явные дубликаты\n",
    " - Проведен анализ распределения числовых показателей. Значение funding_total_usd ограничено на уровне 300 миллионов, что привело к удалению 0.51% данных из тренировочной выборки и 0.47% — из тестовой. Удалены отрицательные значения lifetime. Обнаружен значительный дисбаланс целевого признака (90.6% и 9.4%)\n",
    "\n",
    "___\n",
    "\n",
    "- Построена матрица корреляций. Показана высокая корреляция между region, city и state_code, в результате чего принято решение оставить только country_code для минимизации мультиколлинеарности.\n",
    "\n",
    "___\n",
    "\n",
    "Разработали и обучили три модели машинного обучения, ориентированные на задачу бинарной классификации. Основной метрикой для оценки моделей выбрана F1-мера, так как данные имеют выраженный дисбаланс целевого признака. Лучшаая модель показала метрику 0.6656, без добавления новых параметров. Метрика относительно низкая. Для улучшения метрики можно прибегнуть к увеличению признаков или перенастройке гиперпараметров. Причиной низкой метрики могла стать проблема на этапе предобработки, где были использованы заглушки для данных, которые не иогли быть восстановлены\n"
   ]
  },
  {
   "cell_type": "code",
   "execution_count": null,
   "id": "788f79cb-26b5-497e-aec2-e8be5d5f1123",
   "metadata": {},
   "outputs": [],
   "source": []
  }
 ],
 "metadata": {
  "kernelspec": {
   "display_name": "Python 3 (ipykernel)",
   "language": "python",
   "name": "python3"
  },
  "language_info": {
   "codemirror_mode": {
    "name": "ipython",
    "version": 3
   },
   "file_extension": ".py",
   "mimetype": "text/x-python",
   "name": "python",
   "nbconvert_exporter": "python",
   "pygments_lexer": "ipython3",
   "version": "3.11.7"
  }
 },
 "nbformat": 4,
 "nbformat_minor": 5
}
